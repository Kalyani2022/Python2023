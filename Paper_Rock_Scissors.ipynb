{
 "cells": [
  {
   "cell_type": "code",
   "execution_count": 1,
   "metadata": {},
   "outputs": [],
   "source": [
    "import random\n",
    "\n",
    "def exercise8():\n",
    "    options = [\"Rock\", \"Paper\", \"Scissors\"]\n",
    "    choice1=random.choice(options)\n",
    "    choice2=random.choice(options)\n",
    "    print(choice1+\" \"+choice2)\n",
    "\n",
    "    if((choice1=='Rock') & (choice2=='Scissors')):\n",
    "        return \"Player 1\"\n",
    "    if((choice1=='Rock') & (choice2=='Paper')):\n",
    "        return \"Player 2\"\n",
    "    if((choice1=='Scissors') & (choice2=='Paper')):\n",
    "        return \"Player 1\"\n",
    "    if((choice1=='Paper') & (choice2=='Rock')):\n",
    "        return \"Player 1\"\n",
    "    if(choice1==choice2):\n",
    "        return \"Neither won\"\n",
    "    else:\n",
    "        return \"Player 2\""
   ]
  },
  {
   "cell_type": "code",
   "execution_count": 2,
   "metadata": {},
   "outputs": [
    {
     "name": "stdout",
     "output_type": "stream",
     "text": [
      "Paper wins!\n"
     ]
    }
   ],
   "source": [
    "import sys\n",
    "\n",
    "user1 = input(\"What's your name?\")\n",
    "user2 = input(\"And your name?\")\n",
    "user1_answer = input(\"%s, do yo want to choose rock, paper or scissors?\" % user1)\n",
    "user2_answer = input(\"%s, do you want to choose rock, paper or scissors?\" % user2)\n",
    "\n",
    "def compare(u1, u2):\n",
    "    if u1 == u2:\n",
    "        return(\"It's a tie!\")\n",
    "    elif u1 == 'rock':\n",
    "        if u2 == 'scissors':\n",
    "            return(\"Rock wins!\")\n",
    "        else:\n",
    "            return(\"Paper wins!\")\n",
    "    elif u1 == 'scissors':\n",
    "        if u2 == 'paper':\n",
    "            return(\"Scissors win!\")\n",
    "        else:\n",
    "            return(\"Rock wins!\")\n",
    "    elif u1 == 'paper':\n",
    "        if u2 == 'rock':\n",
    "            return(\"Paper wins!\")\n",
    "        else:\n",
    "            return(\"Scissors win!\")\n",
    "    else:\n",
    "        return(\"Invalid input! You have not entered rock, paper or scissors, try again.\")\n",
    "        sys.exit()\n",
    "\n",
    "print(compare(user1_answer, user2_answer))"
   ]
  },
  {
   "cell_type": "code",
   "execution_count": 73,
   "metadata": {},
   "outputs": [
    {
     "name": "stdout",
     "output_type": "stream",
     "text": [
      "[3, 4] -->  <class 'list'>\n",
      "3 4 -->  <class 'int'>\n",
      "['#', '#', '#', '.', '#', '.', '.', '#', '.', '.', '#', '.'] <class 'list'>\n",
      "[['#', '#', '#'], ['.', '#', '.'], ['.', '#', '.'], ['.', '#', '.']] 4\n",
      "###\n",
      ".#.\n",
      ".#.\n",
      ".#.\n"
     ]
    }
   ],
   "source": [
    "ls_k = []\n",
    "with open(\"k.txt\",'r+') as fk:\n",
    "    n = fk.read().strip().split('\\n')\n",
    "    #print(len(n))\n",
    "    for i in range(len(n)):\n",
    "        num = int(n[i])\n",
    "        ls_k.append(num)\n",
    "    print(ls_k,'--> ',type(ls_k))\n",
    "c = ls_k[0]\n",
    "r = ls_k[1]\n",
    "print(c,r,'--> ',type(c))\n",
    "ls_s = []\n",
    "with open(\"s.txt\",'r') as fs:\n",
    "    st = fs.read().split('\\n')\n",
    "    print(st, type(st))\n",
    "a = []\n",
    "start = 0\n",
    "end = c\n",
    "for i in range(r):\n",
    "    a.append(st[start:end])\n",
    "    start += c\n",
    "    end += c\n",
    "print(a,len(a))\n",
    "st = \"\"\n",
    "#print(a[i])\n",
    "with open(\"p.txt\",'a+') as fp:\n",
    "    for i in range(r):\n",
    "        ls2st = st.join(a[i])\n",
    "        print(ls2st)\n",
    "        fp.write(ls2st)"
   ]
  },
  {
   "cell_type": "code",
   "execution_count": null,
   "metadata": {},
   "outputs": [],
   "source": [
    "def nest_list(list1,rows, columns):    \n",
    "        result=[]               \n",
    "        start = 0\n",
    "        end = columns\n",
    "        for i in range(rows): \n",
    "            result.append(list1[start:end])\n",
    "            start +=columns\n",
    "            end += columns\n",
    "        return result\n",
    "\n",
    "list1=[0, 1, 2, 3, 4, 5, 6, 7, 8, 9, 10, 11, 12, 13, 14, 15]\n",
    "nest_list(list1,4,4)\n",
    "\n",
    "output:\n",
    "[[0, 1, 2, 3], [4, 5, 6, 7], [8, 9, 10, 11], [12, 13, 14, 15]]\n",
    "\n",
    "list to string:\n",
    "listToStr = ' '.join([str(elem) for elem in s])\n",
    "or\n",
    "' '.join(map(str, s))\n"
   ]
  }
 ],
 "metadata": {
  "interpreter": {
   "hash": "39e96fb8295ea3e25cddb506332d132b1309cf2f488544f7f2cf02a54f7887e2"
  },
  "kernelspec": {
   "display_name": "Python 3.9.7 64-bit",
   "language": "python",
   "name": "python3"
  },
  "language_info": {
   "codemirror_mode": {
    "name": "ipython",
    "version": 3
   },
   "file_extension": ".py",
   "mimetype": "text/x-python",
   "name": "python",
   "nbconvert_exporter": "python",
   "pygments_lexer": "ipython3",
   "version": "3.9.7"
  },
  "orig_nbformat": 4
 },
 "nbformat": 4,
 "nbformat_minor": 2
}
